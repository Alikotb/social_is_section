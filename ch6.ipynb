{
 "cells": [
  {
   "cell_type": "code",
   "execution_count": 3,
   "id": "5b22cd82",
   "metadata": {},
   "outputs": [
    {
     "data": {
      "text/plain": [
       "False"
      ]
     },
     "execution_count": 3,
     "metadata": {},
     "output_type": "execute_result"
    }
   ],
   "source": [
    "import random\n",
    "\n",
    "%matplotlib inline\n",
    "import networkx as nx\n",
    "\n",
    "partition = [\n",
    "    {1, 2, 3},\n",
    "    {4, 5, 6},\n",
    "    {0, 7},\n",
    "]\n",
    "nx.community.is_partition(G, partition)"
   ]
  },
  {
   "cell_type": "code",
   "execution_count": 4,
   "id": "d48bd801",
   "metadata": {},
   "outputs": [
    {
     "data": {
      "text/plain": [
       "{1: 0, 2: 0, 3: 0, 4: 1, 5: 1, 6: 1, 0: 2, 7: 2}"
      ]
     },
     "execution_count": 4,
     "metadata": {},
     "output_type": "execute_result"
    }
   ],
   "source": [
    "partition_map = {}\n",
    "for idx, cluster_nodes in enumerate(partition):\n",
    "    for node in cluster_nodes:\n",
    "        partition_map[node] = idx\n",
    "\n",
    "partition_map"
   ]
  },
  {
   "cell_type": "code",
   "execution_count": 5,
   "id": "8994fb47",
   "metadata": {},
   "outputs": [
    {
     "data": {
      "image/png": "[encoded data removed]",
      "text/plain": [
       "<Figure size 432x288 with 1 Axes>"
      ]
     },
     "metadata": {},
     "output_type": "display_data"
    }
   ],
   "source": [
    "node_colors = [partition_map[n] for n in G.nodes]\n",
    "        \n",
    "nx.draw(G, node_color=node_colors, with_labels=True)"
   ]
  },
  {
   "cell_type": "code",
   "execution_count": 7,
   "id": "525e0c55",
   "metadata": {},
   "outputs": [
    {
     "ename": "NetworkXError",
     "evalue": "nbunch is not a node or a sequence of nodes.",
     "output_type": "error",
     "traceback": [
      "\u001b[1;31m---------------------------------------------------------------------------\u001b[0m",
      "\u001b[1;31mTypeError\u001b[0m                                 Traceback (most recent call last)",
      "\u001b[1;32m~\\anaconda3\\lib\\site-packages\\networkx\\classes\\graph.py\u001b[0m in \u001b[0;36mbunch_iter\u001b[1;34m(nlist, adj)\u001b[0m\n\u001b[0;32m   1910\u001b[0m                 \u001b[1;32mtry\u001b[0m\u001b[1;33m:\u001b[0m\u001b[1;33m\u001b[0m\u001b[1;33m\u001b[0m\u001b[0m\n\u001b[1;32m-> 1911\u001b[1;33m                     \u001b[1;32mfor\u001b[0m \u001b[0mn\u001b[0m \u001b[1;32min\u001b[0m \u001b[0mnlist\u001b[0m\u001b[1;33m:\u001b[0m\u001b[1;33m\u001b[0m\u001b[1;33m\u001b[0m\u001b[0m\n\u001b[0m\u001b[0;32m   1912\u001b[0m                         \u001b[1;32mif\u001b[0m \u001b[0mn\u001b[0m \u001b[1;32min\u001b[0m \u001b[0madj\u001b[0m\u001b[1;33m:\u001b[0m\u001b[1;33m\u001b[0m\u001b[1;33m\u001b[0m\u001b[0m\n",
      "\u001b[1;31mTypeError\u001b[0m: 'int' object is not iterable",
      "\nDuring handling of the above exception, another exception occurred:\n",
      "\u001b[1;31mNetworkXError\u001b[0m                             Traceback (most recent call last)",
      "\u001b[1;32mC:\\Users\\ALIKOT~1\\AppData\\Local\\Temp/ipykernel_10380/3374797304.py\u001b[0m in \u001b[0;36m<module>\u001b[1;34m\u001b[0m\n\u001b[0;32m     10\u001b[0m \u001b[1;33m\u001b[0m\u001b[0m\n\u001b[0;32m     11\u001b[0m     \u001b[1;32mreturn\u001b[0m \u001b[0msummation\u001b[0m \u001b[1;33m/\u001b[0m \u001b[0mW\u001b[0m\u001b[1;33m\u001b[0m\u001b[1;33m\u001b[0m\u001b[0m\n\u001b[1;32m---> 12\u001b[1;33m \u001b[0mmodularity\u001b[0m\u001b[1;33m(\u001b[0m\u001b[0mG\u001b[0m\u001b[1;33m,\u001b[0m \u001b[0mpartition\u001b[0m\u001b[1;33m)\u001b[0m\u001b[1;33m\u001b[0m\u001b[1;33m\u001b[0m\u001b[0m\n\u001b[0m",
      "\u001b[1;32mC:\\Users\\ALIKOT~1\\AppData\\Local\\Temp/ipykernel_10380/3374797304.py\u001b[0m in \u001b[0;36mmodularity\u001b[1;34m(G, partition)\u001b[0m\n\u001b[0;32m      3\u001b[0m     \u001b[0msummation\u001b[0m \u001b[1;33m=\u001b[0m \u001b[1;36m0\u001b[0m\u001b[1;33m\u001b[0m\u001b[1;33m\u001b[0m\u001b[0m\n\u001b[0;32m      4\u001b[0m     \u001b[1;32mfor\u001b[0m \u001b[0mcluster_nodes\u001b[0m \u001b[1;32min\u001b[0m \u001b[0mpartition\u001b[0m\u001b[1;33m:\u001b[0m\u001b[1;33m\u001b[0m\u001b[1;33m\u001b[0m\u001b[0m\n\u001b[1;32m----> 5\u001b[1;33m         \u001b[0ms_c\u001b[0m \u001b[1;33m=\u001b[0m \u001b[0msum\u001b[0m\u001b[1;33m(\u001b[0m\u001b[0mG\u001b[0m\u001b[1;33m.\u001b[0m\u001b[0mdegree\u001b[0m\u001b[1;33m(\u001b[0m\u001b[0mn\u001b[0m\u001b[1;33m,\u001b[0m \u001b[0mweight\u001b[0m\u001b[1;33m=\u001b[0m\u001b[1;34m'weight'\u001b[0m\u001b[1;33m)\u001b[0m \u001b[1;32mfor\u001b[0m \u001b[0mn\u001b[0m \u001b[1;32min\u001b[0m \u001b[0mcluster_nodes\u001b[0m\u001b[1;33m)\u001b[0m\u001b[1;33m\u001b[0m\u001b[1;33m\u001b[0m\u001b[0m\n\u001b[0m\u001b[0;32m      6\u001b[0m         \u001b[1;31m# Use subgraph to count only internal links\u001b[0m\u001b[1;33m\u001b[0m\u001b[1;33m\u001b[0m\u001b[0m\n\u001b[0;32m      7\u001b[0m         \u001b[0mC\u001b[0m \u001b[1;33m=\u001b[0m \u001b[0mG\u001b[0m\u001b[1;33m.\u001b[0m\u001b[0msubgraph\u001b[0m\u001b[1;33m(\u001b[0m\u001b[0mcluster_nodes\u001b[0m\u001b[1;33m)\u001b[0m\u001b[1;33m\u001b[0m\u001b[1;33m\u001b[0m\u001b[0m\n",
      "\u001b[1;32mC:\\Users\\ALIKOT~1\\AppData\\Local\\Temp/ipykernel_10380/3374797304.py\u001b[0m in \u001b[0;36m<genexpr>\u001b[1;34m(.0)\u001b[0m\n\u001b[0;32m      3\u001b[0m     \u001b[0msummation\u001b[0m \u001b[1;33m=\u001b[0m \u001b[1;36m0\u001b[0m\u001b[1;33m\u001b[0m\u001b[1;33m\u001b[0m\u001b[0m\n\u001b[0;32m      4\u001b[0m     \u001b[1;32mfor\u001b[0m \u001b[0mcluster_nodes\u001b[0m \u001b[1;32min\u001b[0m \u001b[0mpartition\u001b[0m\u001b[1;33m:\u001b[0m\u001b[1;33m\u001b[0m\u001b[1;33m\u001b[0m\u001b[0m\n\u001b[1;32m----> 5\u001b[1;33m         \u001b[0ms_c\u001b[0m \u001b[1;33m=\u001b[0m \u001b[0msum\u001b[0m\u001b[1;33m(\u001b[0m\u001b[0mG\u001b[0m\u001b[1;33m.\u001b[0m\u001b[0mdegree\u001b[0m\u001b[1;33m(\u001b[0m\u001b[0mn\u001b[0m\u001b[1;33m,\u001b[0m \u001b[0mweight\u001b[0m\u001b[1;33m=\u001b[0m\u001b[1;34m'weight'\u001b[0m\u001b[1;33m)\u001b[0m \u001b[1;32mfor\u001b[0m \u001b[0mn\u001b[0m \u001b[1;32min\u001b[0m \u001b[0mcluster_nodes\u001b[0m\u001b[1;33m)\u001b[0m\u001b[1;33m\u001b[0m\u001b[1;33m\u001b[0m\u001b[0m\n\u001b[0m\u001b[0;32m      6\u001b[0m         \u001b[1;31m# Use subgraph to count only internal links\u001b[0m\u001b[1;33m\u001b[0m\u001b[1;33m\u001b[0m\u001b[0m\n\u001b[0;32m      7\u001b[0m         \u001b[0mC\u001b[0m \u001b[1;33m=\u001b[0m \u001b[0mG\u001b[0m\u001b[1;33m.\u001b[0m\u001b[0msubgraph\u001b[0m\u001b[1;33m(\u001b[0m\u001b[0mcluster_nodes\u001b[0m\u001b[1;33m)\u001b[0m\u001b[1;33m\u001b[0m\u001b[1;33m\u001b[0m\u001b[0m\n",
      "\u001b[1;32m~\\anaconda3\\lib\\site-packages\\networkx\\classes\\reportviews.py\u001b[0m in \u001b[0;36m__call__\u001b[1;34m(self, nbunch, weight)\u001b[0m\n\u001b[0;32m    433\u001b[0m         \u001b[1;32mexcept\u001b[0m \u001b[0mTypeError\u001b[0m\u001b[1;33m:\u001b[0m\u001b[1;33m\u001b[0m\u001b[1;33m\u001b[0m\u001b[0m\n\u001b[0;32m    434\u001b[0m             \u001b[1;32mpass\u001b[0m\u001b[1;33m\u001b[0m\u001b[1;33m\u001b[0m\u001b[0m\n\u001b[1;32m--> 435\u001b[1;33m         \u001b[1;32mreturn\u001b[0m \u001b[0mself\u001b[0m\u001b[1;33m.\u001b[0m\u001b[0m__class__\u001b[0m\u001b[1;33m(\u001b[0m\u001b[0mself\u001b[0m\u001b[1;33m.\u001b[0m\u001b[0m_graph\u001b[0m\u001b[1;33m,\u001b[0m \u001b[0mnbunch\u001b[0m\u001b[1;33m,\u001b[0m \u001b[0mweight\u001b[0m\u001b[1;33m)\u001b[0m\u001b[1;33m\u001b[0m\u001b[1;33m\u001b[0m\u001b[0m\n\u001b[0m\u001b[0;32m    436\u001b[0m \u001b[1;33m\u001b[0m\u001b[0m\n\u001b[0;32m    437\u001b[0m     \u001b[1;32mdef\u001b[0m \u001b[0m__getitem__\u001b[0m\u001b[1;33m(\u001b[0m\u001b[0mself\u001b[0m\u001b[1;33m,\u001b[0m \u001b[0mn\u001b[0m\u001b[1;33m)\u001b[0m\u001b[1;33m:\u001b[0m\u001b[1;33m\u001b[0m\u001b[1;33m\u001b[0m\u001b[0m\n",
      "\u001b[1;32m~\\anaconda3\\lib\\site-packages\\networkx\\classes\\reportviews.py\u001b[0m in \u001b[0;36m__init__\u001b[1;34m(self, G, nbunch, weight)\u001b[0m\n\u001b[0;32m    418\u001b[0m         \u001b[0mself\u001b[0m\u001b[1;33m.\u001b[0m\u001b[0m_succ\u001b[0m \u001b[1;33m=\u001b[0m \u001b[0mG\u001b[0m\u001b[1;33m.\u001b[0m\u001b[0m_succ\u001b[0m \u001b[1;32mif\u001b[0m \u001b[0mhasattr\u001b[0m\u001b[1;33m(\u001b[0m\u001b[0mG\u001b[0m\u001b[1;33m,\u001b[0m \u001b[1;34m\"_succ\"\u001b[0m\u001b[1;33m)\u001b[0m \u001b[1;32melse\u001b[0m \u001b[0mG\u001b[0m\u001b[1;33m.\u001b[0m\u001b[0m_adj\u001b[0m\u001b[1;33m\u001b[0m\u001b[1;33m\u001b[0m\u001b[0m\n\u001b[0;32m    419\u001b[0m         \u001b[0mself\u001b[0m\u001b[1;33m.\u001b[0m\u001b[0m_pred\u001b[0m \u001b[1;33m=\u001b[0m \u001b[0mG\u001b[0m\u001b[1;33m.\u001b[0m\u001b[0m_pred\u001b[0m \u001b[1;32mif\u001b[0m \u001b[0mhasattr\u001b[0m\u001b[1;33m(\u001b[0m\u001b[0mG\u001b[0m\u001b[1;33m,\u001b[0m \u001b[1;34m\"_pred\"\u001b[0m\u001b[1;33m)\u001b[0m \u001b[1;32melse\u001b[0m \u001b[0mG\u001b[0m\u001b[1;33m.\u001b[0m\u001b[0m_adj\u001b[0m\u001b[1;33m\u001b[0m\u001b[1;33m\u001b[0m\u001b[0m\n\u001b[1;32m--> 420\u001b[1;33m         \u001b[0mself\u001b[0m\u001b[1;33m.\u001b[0m\u001b[0m_nodes\u001b[0m \u001b[1;33m=\u001b[0m \u001b[0mself\u001b[0m\u001b[1;33m.\u001b[0m\u001b[0m_succ\u001b[0m \u001b[1;32mif\u001b[0m \u001b[0mnbunch\u001b[0m \u001b[1;32mis\u001b[0m \u001b[1;32mNone\u001b[0m \u001b[1;32melse\u001b[0m \u001b[0mlist\u001b[0m\u001b[1;33m(\u001b[0m\u001b[0mG\u001b[0m\u001b[1;33m.\u001b[0m\u001b[0mnbunch_iter\u001b[0m\u001b[1;33m(\u001b[0m\u001b[0mnbunch\u001b[0m\u001b[1;33m)\u001b[0m\u001b[1;33m)\u001b[0m\u001b[1;33m\u001b[0m\u001b[1;33m\u001b[0m\u001b[0m\n\u001b[0m\u001b[0;32m    421\u001b[0m         \u001b[0mself\u001b[0m\u001b[1;33m.\u001b[0m\u001b[0m_weight\u001b[0m \u001b[1;33m=\u001b[0m \u001b[0mweight\u001b[0m\u001b[1;33m\u001b[0m\u001b[1;33m\u001b[0m\u001b[0m\n\u001b[0;32m    422\u001b[0m \u001b[1;33m\u001b[0m\u001b[0m\n",
      "\u001b[1;32m~\\anaconda3\\lib\\site-packages\\networkx\\classes\\graph.py\u001b[0m in \u001b[0;36mbunch_iter\u001b[1;34m(nlist, adj)\u001b[0m\n\u001b[0;32m   1924\u001b[0m                             \u001b[1;34mf\"Node {n} in sequence nbunch is not a valid node.\"\u001b[0m\u001b[1;33m\u001b[0m\u001b[1;33m\u001b[0m\u001b[0m\n\u001b[0;32m   1925\u001b[0m                         )\n\u001b[1;32m-> 1926\u001b[1;33m                     \u001b[1;32mraise\u001b[0m \u001b[0mexc\u001b[0m\u001b[1;33m\u001b[0m\u001b[1;33m\u001b[0m\u001b[0m\n\u001b[0m\u001b[0;32m   1927\u001b[0m \u001b[1;33m\u001b[0m\u001b[0m\n\u001b[0;32m   1928\u001b[0m             \u001b[0mbunch\u001b[0m \u001b[1;33m=\u001b[0m \u001b[0mbunch_iter\u001b[0m\u001b[1;33m(\u001b[0m\u001b[0mnbunch\u001b[0m\u001b[1;33m,\u001b[0m \u001b[0mself\u001b[0m\u001b[1;33m.\u001b[0m\u001b[0m_adj\u001b[0m\u001b[1;33m)\u001b[0m\u001b[1;33m\u001b[0m\u001b[1;33m\u001b[0m\u001b[0m\n",
      "\u001b[1;31mNetworkXError\u001b[0m: nbunch is not a node or a sequence of nodes."
     ]
    }
   ],
   "source": [
    "def modularity(G, partition):\n",
    "    W = sum(G.edges[v, w].get('weight', 1) for v, w in G.edges)\n",
    "    summation = 0\n",
    "    for cluster_nodes in partition:\n",
    "        s_c = sum(G.degree(n, weight='weight') for n in cluster_nodes)\n",
    "        # Use subgraph to count only internal links\n",
    "        C = G.subgraph(cluster_nodes)\n",
    "        W_c = sum(C.edges[v, w].get('weight', 1) for v, w in C.edges)\n",
    "        summation += W_c - s_c ** 2 / (4 * W)\n",
    "    \n",
    "    return summation / W\n",
    "modularity(G, partition)"
   ]
  },
  {
   "cell_type": "code",
   "execution_count": 8,
   "id": "db3cee71",
   "metadata": {},
   "outputs": [
    {
     "data": {
      "image/png": "[encoded data removed]",
      "text/plain": [
       "<Figure size 432x288 with 1 Axes>"
      ]
     },
     "metadata": {},
     "output_type": "display_data"
    }
   ],
   "source": [
    "G = nx.karate_club_graph()\n",
    "nx.draw(G)"
   ]
  },
  {
   "cell_type": "code",
   "execution_count": 9,
   "id": "66be5543",
   "metadata": {},
   "outputs": [
    {
     "data": {
      "text/plain": [
       "{(0, 1): 0.025252525252525245,\n",
       " (0, 2): 0.0777876807288572,\n",
       " (0, 3): 0.02049910873440285,\n",
       " (0, 4): 0.0522875816993464,\n",
       " (0, 5): 0.07813428401663694,\n",
       " (0, 6): 0.07813428401663695,\n",
       " (0, 7): 0.0228206434088787,\n",
       " (0, 8): 0.07423959482783014,\n",
       " (0, 10): 0.0522875816993464,\n",
       " (0, 11): 0.058823529411764705,\n",
       " (0, 12): 0.04652406417112298,\n",
       " (0, 13): 0.04237189825425121,\n",
       " (0, 17): 0.04012392835922248,\n",
       " (0, 19): 0.045936960642843,\n",
       " (0, 21): 0.040123928359222474,\n",
       " (0, 31): 0.1272599949070537,\n",
       " (1, 2): 0.023232323232323233,\n",
       " (1, 3): 0.0077243018419489,\n",
       " (1, 7): 0.007422969187675069,\n",
       " (1, 13): 0.01240556828792123,\n",
       " (1, 17): 0.01869960105254222,\n",
       " (1, 19): 0.014633732280791102,\n",
       " (1, 21): 0.01869960105254222,\n",
       " (1, 30): 0.032280791104320514,\n",
       " (2, 3): 0.022430184194890075,\n",
       " (2, 7): 0.025214328155504617,\n",
       " (2, 8): 0.009175791528732704,\n",
       " (2, 9): 0.030803836686189627,\n",
       " (2, 13): 0.007630931160342923,\n",
       " (2, 27): 0.04119203236850296,\n",
       " (2, 28): 0.02278244631185807,\n",
       " (2, 32): 0.06898678663384543,\n",
       " (3, 7): 0.003365588659706307,\n",
       " (3, 12): 0.012299465240641705,\n",
       " (3, 13): 0.01492233256939139,\n",
       " (4, 6): 0.0047534165181224,\n",
       " (4, 10): 0.0029708853238265,\n",
       " (5, 6): 0.0029708853238265003,\n",
       " (5, 10): 0.0047534165181224,\n",
       " (5, 16): 0.029411764705882353,\n",
       " (6, 16): 0.029411764705882353,\n",
       " (8, 30): 0.00980392156862745,\n",
       " (8, 32): 0.0304416716181422,\n",
       " (8, 33): 0.04043657867187279,\n",
       " (9, 33): 0.029615482556659026,\n",
       " (13, 33): 0.06782389723566191,\n",
       " (14, 32): 0.024083977025153497,\n",
       " (14, 33): 0.03473955238661121,\n",
       " (15, 32): 0.024083977025153497,\n",
       " (15, 33): 0.03473955238661121,\n",
       " (18, 32): 0.024083977025153497,\n",
       " (18, 33): 0.03473955238661121,\n",
       " (19, 33): 0.05938233879410351,\n",
       " (20, 32): 0.024083977025153497,\n",
       " (20, 33): 0.03473955238661121,\n",
       " (22, 32): 0.024083977025153493,\n",
       " (22, 33): 0.03473955238661121,\n",
       " (23, 25): 0.019776193305605066,\n",
       " (23, 27): 0.010536739948504653,\n",
       " (23, 29): 0.00665478312537136,\n",
       " (23, 32): 0.022341057635175278,\n",
       " (23, 33): 0.03266983561101209,\n",
       " (24, 25): 0.0042186571598336305,\n",
       " (24, 27): 0.018657159833630418,\n",
       " (24, 31): 0.040106951871657755,\n",
       " (25, 31): 0.04205783323430383,\n",
       " (26, 29): 0.004532722179781003,\n",
       " (26, 33): 0.0542908072319837,\n",
       " (27, 33): 0.030477039300568713,\n",
       " (28, 31): 0.0148544266191325,\n",
       " (28, 33): 0.024564977506153975,\n",
       " (29, 32): 0.023328523328523323,\n",
       " (29, 33): 0.029807882749059215,\n",
       " (30, 32): 0.01705288175876411,\n",
       " (30, 33): 0.02681436210847975,\n",
       " (31, 32): 0.04143394731630026,\n",
       " (31, 33): 0.05339388280564752,\n",
       " (32, 33): 0.008225108225108224}"
      ]
     },
     "execution_count": 9,
     "metadata": {},
     "output_type": "execute_result"
    }
   ],
   "source": [
    "nx.edge_betweenness_centrality(G)"
   ]
  },
  {
   "cell_type": "code",
   "execution_count": 10,
   "id": "65d927e0",
   "metadata": {},
   "outputs": [],
   "source": [
    "my_edge_betweenness = nx.edge_betweenness_centrality(G)\n",
    "most_valuable_edge = max(G.edges(), key=my_edge_betweenness.get)\n",
    "G.remove_edge(*most_valuable_edge)"
   ]
  },
  {
   "cell_type": "code",
   "execution_count": 11,
   "id": "f2e59381",
   "metadata": {},
   "outputs": [
    {
     "data": {
      "text/plain": [
       "[{0,\n",
       "  1,\n",
       "  2,\n",
       "  3,\n",
       "  4,\n",
       "  5,\n",
       "  6,\n",
       "  7,\n",
       "  8,\n",
       "  9,\n",
       "  10,\n",
       "  11,\n",
       "  12,\n",
       "  13,\n",
       "  14,\n",
       "  15,\n",
       "  16,\n",
       "  17,\n",
       "  18,\n",
       "  19,\n",
       "  20,\n",
       "  21,\n",
       "  22,\n",
       "  23,\n",
       "  24,\n",
       "  25,\n",
       "  26,\n",
       "  27,\n",
       "  28,\n",
       "  29,\n",
       "  30,\n",
       "  31,\n",
       "  32,\n",
       "  33}]"
      ]
     },
     "execution_count": 11,
     "metadata": {},
     "output_type": "execute_result"
    }
   ],
   "source": [
    "list(nx.connected_components(G))"
   ]
  },
  {
   "cell_type": "code",
   "execution_count": 12,
   "id": "345908a2",
   "metadata": {},
   "outputs": [
    {
     "ename": "NameError",
     "evalue": "name 'partition_sequence' is not defined",
     "output_type": "error",
     "traceback": [
      "\u001b[1;31m---------------------------------------------------------------------------\u001b[0m",
      "\u001b[1;31mNameError\u001b[0m                                 Traceback (most recent call last)",
      "\u001b[1;32mC:\\Users\\ALIKOT~1\\AppData\\Local\\Temp/ipykernel_10380/2318684975.py\u001b[0m in \u001b[0;36m<module>\u001b[1;34m\u001b[0m\n\u001b[0;32m      1\u001b[0m \u001b[0mG\u001b[0m \u001b[1;33m=\u001b[0m \u001b[0mnx\u001b[0m\u001b[1;33m.\u001b[0m\u001b[0mkarate_club_graph\u001b[0m\u001b[1;33m(\u001b[0m\u001b[1;33m)\u001b[0m\u001b[1;33m\u001b[0m\u001b[1;33m\u001b[0m\u001b[0m\n\u001b[1;32m----> 2\u001b[1;33m \u001b[0mmodularity_sequence\u001b[0m \u001b[1;33m=\u001b[0m \u001b[1;33m[\u001b[0m\u001b[0mmodularity\u001b[0m\u001b[1;33m(\u001b[0m\u001b[0mG\u001b[0m\u001b[1;33m,\u001b[0m \u001b[0mp\u001b[0m\u001b[1;33m)\u001b[0m \u001b[1;32mfor\u001b[0m \u001b[0mp\u001b[0m \u001b[1;32min\u001b[0m \u001b[0mpartition_sequence\u001b[0m\u001b[1;33m]\u001b[0m\u001b[1;33m\u001b[0m\u001b[1;33m\u001b[0m\u001b[0m\n\u001b[0m\u001b[0;32m      3\u001b[0m \u001b[0mmodularity_sequence\u001b[0m\u001b[1;33m\u001b[0m\u001b[1;33m\u001b[0m\u001b[0m\n",
      "\u001b[1;31mNameError\u001b[0m: name 'partition_sequence' is not defined"
     ]
    }
   ],
   "source": [
    "G = nx.karate_club_graph()\n",
    "modularity_sequence = [modularity(G, p) for p in partition_sequence]\n",
    "modularity_sequence"
   ]
  },
  {
   "cell_type": "code",
   "execution_count": 13,
   "id": "a0d6e5cf",
   "metadata": {},
   "outputs": [
    {
     "ename": "NameError",
     "evalue": "name 'modularity_sequence' is not defined",
     "output_type": "error",
     "traceback": [
      "\u001b[1;31m---------------------------------------------------------------------------\u001b[0m",
      "\u001b[1;31mNameError\u001b[0m                                 Traceback (most recent call last)",
      "\u001b[1;32mC:\\Users\\ALIKOT~1\\AppData\\Local\\Temp/ipykernel_10380/4291109869.py\u001b[0m in \u001b[0;36m<module>\u001b[1;34m\u001b[0m\n\u001b[0;32m      1\u001b[0m \u001b[1;32mimport\u001b[0m \u001b[0mmatplotlib\u001b[0m\u001b[1;33m.\u001b[0m\u001b[0mpyplot\u001b[0m \u001b[1;32mas\u001b[0m \u001b[0mplt\u001b[0m\u001b[1;33m\u001b[0m\u001b[1;33m\u001b[0m\u001b[0m\n\u001b[1;32m----> 2\u001b[1;33m \u001b[0mplt\u001b[0m\u001b[1;33m.\u001b[0m\u001b[0mplot\u001b[0m\u001b[1;33m(\u001b[0m\u001b[0mmodularity_sequence\u001b[0m\u001b[1;33m)\u001b[0m\u001b[1;33m\u001b[0m\u001b[1;33m\u001b[0m\u001b[0m\n\u001b[0m\u001b[0;32m      3\u001b[0m \u001b[0mplt\u001b[0m\u001b[1;33m.\u001b[0m\u001b[0mylabel\u001b[0m\u001b[1;33m(\u001b[0m\u001b[1;34m'Modularity'\u001b[0m\u001b[1;33m)\u001b[0m\u001b[1;33m\u001b[0m\u001b[1;33m\u001b[0m\u001b[0m\n\u001b[0;32m      4\u001b[0m \u001b[0mplt\u001b[0m\u001b[1;33m.\u001b[0m\u001b[0mxlabel\u001b[0m\u001b[1;33m(\u001b[0m\u001b[1;34m'Algorithm step'\u001b[0m\u001b[1;33m)\u001b[0m\u001b[1;33m\u001b[0m\u001b[1;33m\u001b[0m\u001b[0m\n",
      "\u001b[1;31mNameError\u001b[0m: name 'modularity_sequence' is not defined"
     ]
    }
   ],
   "source": [
    "import matplotlib.pyplot as plt\n",
    "plt.plot(modularity_sequence)\n",
    "plt.ylabel('Modularity')\n",
    "plt.xlabel('Algorithm step')"
   ]
  },
  {
   "cell_type": "code",
   "execution_count": 14,
   "id": "c053b69f",
   "metadata": {},
   "outputs": [
    {
     "ename": "NameError",
     "evalue": "name 'best_partition' is not defined",
     "output_type": "error",
     "traceback": [
      "\u001b[1;31m---------------------------------------------------------------------------\u001b[0m",
      "\u001b[1;31mNameError\u001b[0m                                 Traceback (most recent call last)",
      "\u001b[1;32mC:\\Users\\ALIKOT~1\\AppData\\Local\\Temp/ipykernel_10380/1380380175.py\u001b[0m in \u001b[0;36m<module>\u001b[1;34m\u001b[0m\n\u001b[0;32m      5\u001b[0m             \u001b[0mpartition_map\u001b[0m\u001b[1;33m[\u001b[0m\u001b[0mnode\u001b[0m\u001b[1;33m]\u001b[0m \u001b[1;33m=\u001b[0m \u001b[0midx\u001b[0m\u001b[1;33m\u001b[0m\u001b[1;33m\u001b[0m\u001b[0m\n\u001b[0;32m      6\u001b[0m     \u001b[1;32mreturn\u001b[0m \u001b[0mpartition_map\u001b[0m\u001b[1;33m\u001b[0m\u001b[1;33m\u001b[0m\u001b[0m\n\u001b[1;32m----> 7\u001b[1;33m \u001b[0mbest_partition_map\u001b[0m \u001b[1;33m=\u001b[0m \u001b[0mcreate_partition_map\u001b[0m\u001b[1;33m(\u001b[0m\u001b[0mbest_partition\u001b[0m\u001b[1;33m)\u001b[0m\u001b[1;33m\u001b[0m\u001b[1;33m\u001b[0m\u001b[0m\n\u001b[0m\u001b[0;32m      8\u001b[0m \u001b[1;33m\u001b[0m\u001b[0m\n\u001b[0;32m      9\u001b[0m \u001b[0mnode_colors\u001b[0m \u001b[1;33m=\u001b[0m \u001b[1;33m[\u001b[0m\u001b[0mbest_partition_map\u001b[0m\u001b[1;33m[\u001b[0m\u001b[0mn\u001b[0m\u001b[1;33m]\u001b[0m \u001b[1;32mfor\u001b[0m \u001b[0mn\u001b[0m \u001b[1;32min\u001b[0m \u001b[0mG\u001b[0m\u001b[1;33m.\u001b[0m\u001b[0mnodes\u001b[0m\u001b[1;33m(\u001b[0m\u001b[1;33m)\u001b[0m\u001b[1;33m]\u001b[0m\u001b[1;33m\u001b[0m\u001b[1;33m\u001b[0m\u001b[0m\n",
      "\u001b[1;31mNameError\u001b[0m: name 'best_partition' is not defined"
     ]
    }
   ],
   "source": [
    "def create_partition_map(partition):\n",
    "    partition_map = {}\n",
    "    for idx, cluster_nodes in enumerate(partition):\n",
    "        for node in cluster_nodes:\n",
    "            partition_map[node] = idx\n",
    "    return partition_map\n",
    "best_partition_map = create_partition_map(best_partition)\n",
    "\n",
    "node_colors = [best_partition_map[n] for n in G.nodes()]\n",
    "nx.draw(G, with_labels=True, node_color=node_colors)"
   ]
  },
  {
   "cell_type": "code",
   "execution_count": 15,
   "id": "99eb4d3d",
   "metadata": {},
   "outputs": [
    {
     "data": {
      "text/plain": [
       "[({0, 1, 3, 4, 5, 6, 7, 10, 11, 12, 13, 16, 17, 19, 21},\n",
       "  {2, 8, 9, 14, 15, 18, 20, 22, 23, 24, 25, 26, 27, 28, 29, 30, 31, 32, 33}),\n",
       " ({0, 1, 3, 4, 5, 6, 7, 10, 11, 12, 13, 16, 17, 19, 21},\n",
       "  {2, 8, 14, 15, 18, 20, 22, 23, 24, 25, 26, 27, 28, 29, 30, 31, 32, 33},\n",
       "  {9}),\n",
       " ({0, 1, 3, 7, 11, 12, 13, 17, 19, 21},\n",
       "  {2, 8, 14, 15, 18, 20, 22, 23, 24, 25, 26, 27, 28, 29, 30, 31, 32, 33},\n",
       "  {4, 5, 6, 10, 16},\n",
       "  {9}),\n",
       " ({0, 1, 3, 7, 11, 12, 13, 17, 19, 21},\n",
       "  {2, 24, 25, 27, 28, 31},\n",
       "  {4, 5, 6, 10, 16},\n",
       "  {8, 14, 15, 18, 20, 22, 23, 26, 29, 30, 32, 33},\n",
       "  {9}),\n",
       " ({0, 1, 3, 7, 12, 13, 17, 19, 21},\n",
       "  {2, 24, 25, 27, 28, 31},\n",
       "  {4, 5, 6, 10, 16},\n",
       "  {8, 14, 15, 18, 20, 22, 23, 26, 29, 30, 32, 33},\n",
       "  {9},\n",
       "  {11})]"
      ]
     },
     "execution_count": 15,
     "metadata": {},
     "output_type": "execute_result"
    }
   ],
   "source": [
    "list(nx.community.girvan_newman(G))[:5]"
   ]
  },
  {
   "cell_type": "code",
   "execution_count": null,
   "id": "5ef7c6a7",
   "metadata": {},
   "outputs": [],
   "source": []
  }
 ],
 "metadata": {
  "kernelspec": {
   "display_name": "Python 3 (ipykernel)",
   "language": "python",
   "name": "python3"
  },
  "language_info": {
   "codemirror_mode": {
    "name": "ipython",
    "version": 3
   },
   "file_extension": ".py",
   "mimetype": "text/x-python",
   "name": "python",
   "nbconvert_exporter": "python",
   "pygments_lexer": "ipython3",
   "version": "3.9.7"
  }
 },
 "nbformat": 4,
 "nbformat_minor": 5
}
